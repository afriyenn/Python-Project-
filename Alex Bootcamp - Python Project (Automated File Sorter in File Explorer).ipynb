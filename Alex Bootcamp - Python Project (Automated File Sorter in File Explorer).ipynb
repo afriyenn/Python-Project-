{
 "cells": [
  {
   "cell_type": "markdown",
   "id": "a7dbc248",
   "metadata": {},
   "source": [
    "# Automatic File Sorter in File Explorer "
   ]
  },
  {
   "cell_type": "code",
   "execution_count": 26,
   "id": "94c27fdd",
   "metadata": {},
   "outputs": [],
   "source": [
    "import os, shutil    # os = operating system"
   ]
  },
  {
   "cell_type": "code",
   "execution_count": 27,
   "id": "68409c48",
   "metadata": {},
   "outputs": [],
   "source": [
    "path = r\"F:/Self-Learning/MY CONCENTRATION/BIG DATA/PORTFOLIO PROJECT/Portfolio Alex The Analyst/Python/Automatic Folder Python/\""
   ]
  },
  {
   "cell_type": "code",
   "execution_count": 28,
   "id": "473ef4ff",
   "metadata": {},
   "outputs": [],
   "source": [
    "file_name = os.listdir(path)"
   ]
  },
  {
   "cell_type": "code",
   "execution_count": 29,
   "id": "3e882d22",
   "metadata": {},
   "outputs": [
    {
     "data": {
      "text/plain": [
       "True"
      ]
     },
     "execution_count": 29,
     "metadata": {},
     "output_type": "execute_result"
    }
   ],
   "source": [
    "os.path.exists(path + 'csv files')    # checking whether the folder of path (jpg, csv etc) does exist"
   ]
  },
  {
   "cell_type": "code",
   "execution_count": null,
   "id": "7f8d8e84",
   "metadata": {},
   "outputs": [],
   "source": [
    "# Creating Folder"
   ]
  },
  {
   "cell_type": "code",
   "execution_count": 30,
   "id": "4b2e3fcd",
   "metadata": {},
   "outputs": [],
   "source": [
    "folder_names = ['csv files', 'image files', 'text files']\n",
    "\n",
    "for loop in range(0,3):    \n",
    "    if not os.path.exists(path + folder_names[loop]):  \n",
    "        print(path + folder_names[loop])\n",
    "        os.makedirs((path + folder_names[loop]))\n",
    "        \n",
    "for file in file_name:\n",
    "    if \".csv\" in file and not os.path.exists(path + \"csv files/\" + file):\n",
    "        shutil.move(path + file, path + \"csv files/\" + file)\n",
    "    elif \".jpg\" in file and not os.path.exists(path + \"image files/\" + file):\n",
    "        shutil.move(path + file, path + \"image files/\" + file)\n",
    "    elif \".txt\" in file and not os.path.exists(path + \"text files/\" + file):\n",
    "        shutil.move(path + file, path + \"text files/\" + file)"
   ]
  }
 ],
 "metadata": {
  "kernelspec": {
   "display_name": "Python 3 (ipykernel)",
   "language": "python",
   "name": "python3"
  },
  "language_info": {
   "codemirror_mode": {
    "name": "ipython",
    "version": 3
   },
   "file_extension": ".py",
   "mimetype": "text/x-python",
   "name": "python",
   "nbconvert_exporter": "python",
   "pygments_lexer": "ipython3",
   "version": "3.10.9"
  }
 },
 "nbformat": 4,
 "nbformat_minor": 5
}
